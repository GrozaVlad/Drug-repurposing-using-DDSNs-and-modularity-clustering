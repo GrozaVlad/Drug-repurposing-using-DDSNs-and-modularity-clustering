{
 "cells": [
  {
   "cell_type": "code",
   "execution_count": 30,
   "source": [
    "import psycopg2 as psycopg2\n",
    "from string import Template\n",
    "import pylab\n",
    "\n",
    "conn = psycopg2.connect(\n",
    "    host=\"localhost\",\n",
    "    database=\"drugbank\",\n",
    "    user=\"drugbank\",\n",
    "    password=\"drugbank\",\n",
    "    port=5433)\n",
    "\n",
    "    "
   ],
   "outputs": [],
   "metadata": {}
  },
  {
   "cell_type": "code",
   "execution_count": 31,
   "source": [
    "### Process Data\n",
    "drugCommunityDistribution={}\n",
    "drugCommunities={}\n",
    "for i in range(0,99):\n",
    "    communityDistribution = {\n",
    "    \"V\": set(), \n",
    "    \"M\": set(), \n",
    "    \"D\": set(), \n",
    "    \"B\": set(), \n",
    "    \"S\": set(), \n",
    "    \"N\": set(), \n",
    "    \"L\": set(), \n",
    "    \"G\": set(), \n",
    "    \"J\": set(), \n",
    "    \"P\": set(), \n",
    "    \"A\": set(), \n",
    "    \"R\": set(), \n",
    "    \"C\": set(), \n",
    "    \"H\": set() \n",
    "    } \n",
    "\n",
    "    cursor = conn.cursor()\n",
    "    ### select drugbank desired resolution and version \n",
    "\n",
    "    t = \"\"\"select drugs.name, drugs_resolution.modularity_class, drugs.atc_code as first_letter \n",
    "            FROM public.all_drugs_info as drugs\n",
    "            LEFT JOIN public.drugs_resolution \n",
    "            ON drugs.name = drugs_resolution.name \n",
    "            WHERE CARDINALITY(atc_code) != 0 AND cardinality(drugs.gene_target_ids_array)!= 0 \n",
    "                AND drugs_resolution.drugbank_version = '5.1.8'\n",
    "                AND drugs_resolution.resolution = '2.0'\n",
    "                AND drugs_resolution.modularity_class = '\"\"\" + str(i) + \"\"\"'\"\"\"\n",
    "#     print(t)\n",
    "    #     t.format(modularityClass=modularityClass)\n",
    "    cursor.execute(t, (i,))\n",
    "\n",
    "    # display the PostgreSQL database server version\n",
    "    drugs = cursor.fetchall()\n",
    "    drugCommunities[i]=drugs\n",
    "    # close the communication with the PostgreSQL\n",
    "    cursor.close()\n",
    "\n",
    "    for j in range(0,len(drugs)):\n",
    "        for k in range(0, len(drugs[j][2])):\n",
    "            atcCode = drugs[j][2][k]\n",
    "            firstAtcLetter = atcCode[0:1]\n",
    "            communityDistribution[firstAtcLetter].add(drugs[j][0])\n",
    "            \n",
    "    drugCommunityDistribution[i] = communityDistribution\n",
    "\n",
    "        \n",
    "    \n"
   ],
   "outputs": [],
   "metadata": {}
  },
  {
   "cell_type": "code",
   "execution_count": 41,
   "source": [
    "### Select class\n",
    "modularity = 9\n",
    "for key in drugCommunityDistribution[modularity]:\n",
    "    pylab.bar(key,len(drugCommunityDistribution[modularity][key]))\n",
    "\n",
    "# pylab.title(\"atc levels frequency\")\n",
    "pylab.xlabel(\"First Level ATC codes\", fontsize=20)\n",
    "pylab.ylabel(\"count\", fontsize=20)\n",
    "\n",
    "# print(drugCommunityDistribution[modularity][\"C\"])\n",
    "# print(drugCommunities[modularity])\n",
    "# print(len(drugCommunityDistribution[modularity][\"R\"]))\n",
    "# print(len(drugCommunityDistribution[modularity][\"N\"]))\n",
    "\n",
    "finalSet = set()\n",
    "\n",
    "for key in drugCommunityDistribution[modularity]:\n",
    "    finalSet = set.union(finalSet,drugCommunityDistribution[modularity][key])\n",
    "\n",
    "pylab.savefig('community9.svg')\n",
    "# print(finalSet)    \n",
    "# print(len(finalSet))"
   ],
   "outputs": [
    {
     "output_type": "display_data",
     "data": {
      "text/plain": [
       "<Figure size 432x288 with 1 Axes>"
      ],
      "image/png": "[encoded data removed]"
     },
     "metadata": {
      "needs_background": "light"
     }
    }
   ],
   "metadata": {}
  },
  {
   "cell_type": "code",
   "execution_count": 4,
   "source": [
    "excludedDrugsList = list()\n",
    "\n",
    "maxCount = 0\n",
    "maxKey = 'C'\n",
    "for key in drugCommunityDistribution[modularity]:\n",
    "#     print(key , len(drugCommunityDistribution[modularity][key]))\n",
    "    if maxCount < len(drugCommunityDistribution[modularity][key]):\n",
    "        maxCount = len(drugCommunityDistribution[modularity][key])\n",
    "        maxKey = key\n",
    "\n",
    "# print(maxCount)\n",
    "print(maxKey)\n",
    "\n",
    "### Get all the drugs that are not in the exclusion atc group\n",
    "\n",
    "def myFunc(x):\n",
    "  for val in drugCommunityDistribution[modularity][maxKey]:\n",
    "      if x[0] == val:\n",
    "        return False\n",
    "  \n",
    "  return True \n",
    "\n",
    "excludedDrugs = list(filter(myFunc, drugCommunities[modularity]))\n",
    "\n",
    "# for x in excludedDrugs:\n",
    "#   print(x)\n",
    "for key in excludedDrugs:\n",
    "    key = list(key)\n",
    "    key.append(maxKey)\n",
    "    key = tuple(key)\n",
    "    excludedDrugsList.append(key)\n",
    "#     print(key)\n",
    "    \n",
    "# type()\n",
    "\n",
    "print(len(excludedDrugsList))\n",
    "# \n",
    "\n",
    "# cursor = conn.cursor()x1\n",
    "# t = \"\"\"INSERT INTO public.drug_candidates(\n",
    "# name, modularity_class, atc_code, target_atc)\n",
    "# VALUES (excludedDrugs, ?, ?, ?)\"\"\"\n",
    "\n",
    "# #     t.format(modularityClass=modularityClass)\n",
    "# cursor.execute(t)\n",
    "\n",
    "# # display the PostgreSQL database server version\n",
    "# drugs = cursor.fetchall()\n",
    "# drugCommunities[i]=drugs\n",
    "# # close the communication with the PostgreSQL\n",
    "# cursor.close()\n",
    "\n"
   ],
   "outputs": [
    {
     "output_type": "stream",
     "name": "stdout",
     "text": [
      "C\n",
      "1469\n"
     ]
    }
   ],
   "metadata": {}
  },
  {
   "cell_type": "code",
   "execution_count": 5,
   "source": [
    "excludedCommunityDistribution = {\n",
    "    \"V\": set(), \n",
    "    \"M\": set(), \n",
    "    \"D\": set(), \n",
    "    \"B\": set(), \n",
    "    \"S\": set(), \n",
    "    \"N\": set(), \n",
    "    \"L\": set(), \n",
    "    \"G\": set(), \n",
    "    \"J\": set(), \n",
    "    \"P\": set(), \n",
    "    \"A\": set(), \n",
    "    \"R\": set(), \n",
    "    \"C\": set(), \n",
    "    \"H\": set() \n",
    "    }\n",
    "    \n",
    "for x in excludedDrugs:\n",
    "    for k in range(0, len(x[2])):\n",
    "        atcCode = x[2][k]\n",
    "        firstAtcLetter = atcCode[0:1]\n",
    "        excludedCommunityDistribution[firstAtcLetter].add(x[0])\n",
    "\n",
    "print(excludedCommunityDistribution)        \n",
    "        \n",
    "for key in excludedCommunityDistribution:\n",
    "    pylab.bar(key,len(excludedCommunityDistribution[key]))\n",
    "    \n",
    "# pylab.title(\"atc levels frequency\")\n",
    "pylab.xlabel(\"atc levels\")\n",
    "pylab.ylabel(\"count\")    "
   ],
   "outputs": [
    {
     "output_type": "stream",
     "name": "stdout",
     "text": [
      "{'V': {'Magnesium Sulfate', 'Caffeine'}, 'M': {'Methocarbamol', 'Misoprostol', 'Chlorzoxazone'}, 'D': {'Magnesium Sulfate', 'Cromoglicic acid', 'Ciclopirox'}, 'B': {'Cilostazol', 'Dipyridamole', 'Iloprost', 'Defibrotide', 'Treprostinil', 'Epoprostenol', 'Prasugrel', 'Ticagrelor', 'Clopidogrel', 'Magnesium Sulfate', 'Potassium Chloride', 'Ticlopidine'}, 'S': {'Latanoprost', 'Diclofenamide', 'Dorzolamide', 'Bimatoprost', 'Travoprost', 'Tafluprost', 'Acetazolamide', 'Brinzolamide', 'Methazolamide', 'Cromoglicic acid', 'Proparacaine'}, 'N': {'Ethotoin', 'Ropivacaine', 'Tofisopam', 'Lacosamide', 'Oxcarbazepine', 'Paramethadione', 'Mepivacaine', 'Valproic Acid', 'Carbamazepine', 'Acamprosate', 'Prilocaine', 'Trimethadione', 'Zonisamide', 'Bupivacaine', 'Methsuximide', 'Riluzole', 'Lamotrigine', 'Caffeine', 'Cinnarizine', 'Phenacemide', 'Pregabalin', 'Topiramate', 'Phenytoin', 'Ethosuximide', 'Levetiracetam', 'Rufinamide', 'Gabapentin', 'Dyclonine'}, 'L': {'Leflunomide', 'Anagrelide', 'Pentostatin', 'Vorinostat'}, 'G': {'Dinoprostone', 'Phenazopyridine', 'Vardenafil', 'Dinoprost Tromethamine', 'Sildenafil', 'Diclofenamide', 'Dorzolamide', 'Acetazolamide', 'Misoprostol', 'Papaverine', 'Ciclopirox', 'Brinzolamide', 'Carboprost Tromethamine', 'Methazolamide', 'Zonisamide'}, 'J': set(), 'P': {'Permethrin', 'Atovaquone', 'Mefloquine'}, 'A': {'Vildagliptin', 'Alogliptin', 'Phenformin', 'Saxagliptin', 'Drotaverine', 'Magnesium Sulfate', 'Misoprostol', 'Papaverine', 'Potassium Chloride', 'Glisoxepide', 'Linagliptin', 'Cromoglicic acid', 'Sitagliptin'}, 'R': {'Roflumilast', 'Theophylline', 'Dyclonine', 'Benzonatate', 'Ibudilast', 'Almitrine', 'Caffeine', 'Dyphylline', 'Cromoglicic acid'}, 'C': set(), 'H': set()}\n"
     ]
    },
    {
     "output_type": "execute_result",
     "data": {
      "text/plain": [
       "Text(0, 0.5, 'count')"
      ]
     },
     "metadata": {},
     "execution_count": 5
    },
    {
     "output_type": "display_data",
     "data": {
      "text/plain": [
       "<Figure size 432x288 with 1 Axes>"
      ],
      "image/png": "[encoded data removed]"
     },
     "metadata": {
      "needs_background": "light"
     }
    }
   ],
   "metadata": {
    "scrolled": true
   }
  },
  {
   "cell_type": "code",
   "execution_count": 6,
   "source": [
    "print(excludedCommunityDistribution)"
   ],
   "outputs": [
    {
     "output_type": "stream",
     "name": "stdout",
     "text": [
      "{'V': {'Magnesium Sulfate', 'Caffeine'}, 'M': {'Methocarbamol', 'Misoprostol', 'Chlorzoxazone'}, 'D': {'Magnesium Sulfate', 'Cromoglicic acid', 'Ciclopirox'}, 'B': {'Cilostazol', 'Dipyridamole', 'Iloprost', 'Defibrotide', 'Treprostinil', 'Epoprostenol', 'Prasugrel', 'Ticagrelor', 'Clopidogrel', 'Magnesium Sulfate', 'Potassium Chloride', 'Ticlopidine'}, 'S': {'Latanoprost', 'Diclofenamide', 'Dorzolamide', 'Bimatoprost', 'Travoprost', 'Tafluprost', 'Acetazolamide', 'Brinzolamide', 'Methazolamide', 'Cromoglicic acid', 'Proparacaine'}, 'N': {'Ethotoin', 'Ropivacaine', 'Tofisopam', 'Lacosamide', 'Oxcarbazepine', 'Paramethadione', 'Mepivacaine', 'Valproic Acid', 'Carbamazepine', 'Acamprosate', 'Prilocaine', 'Trimethadione', 'Zonisamide', 'Bupivacaine', 'Methsuximide', 'Riluzole', 'Lamotrigine', 'Caffeine', 'Cinnarizine', 'Phenacemide', 'Pregabalin', 'Topiramate', 'Phenytoin', 'Ethosuximide', 'Levetiracetam', 'Rufinamide', 'Gabapentin', 'Dyclonine'}, 'L': {'Leflunomide', 'Anagrelide', 'Pentostatin', 'Vorinostat'}, 'G': {'Dinoprostone', 'Phenazopyridine', 'Vardenafil', 'Dinoprost Tromethamine', 'Sildenafil', 'Diclofenamide', 'Dorzolamide', 'Acetazolamide', 'Misoprostol', 'Papaverine', 'Ciclopirox', 'Brinzolamide', 'Carboprost Tromethamine', 'Methazolamide', 'Zonisamide'}, 'J': set(), 'P': {'Permethrin', 'Atovaquone', 'Mefloquine'}, 'A': {'Vildagliptin', 'Alogliptin', 'Phenformin', 'Saxagliptin', 'Drotaverine', 'Magnesium Sulfate', 'Misoprostol', 'Papaverine', 'Potassium Chloride', 'Glisoxepide', 'Linagliptin', 'Cromoglicic acid', 'Sitagliptin'}, 'R': {'Roflumilast', 'Theophylline', 'Dyclonine', 'Benzonatate', 'Ibudilast', 'Almitrine', 'Caffeine', 'Dyphylline', 'Cromoglicic acid'}, 'C': set(), 'H': set()}\n"
     ]
    }
   ],
   "metadata": {}
  },
  {
   "cell_type": "code",
   "execution_count": 7,
   "source": [
    "finalSetinio = set()\n",
    "for key in excludedCommunityDistribution:\n",
    "    finalSetinio = set.union(finalSet,excludedCommunityDistribution[key])\n",
    "    \n",
    "\n",
    "print(len(finalSetinio))"
   ],
   "outputs": [
    {
     "output_type": "stream",
     "name": "stdout",
     "text": [
      "149\n"
     ]
    }
   ],
   "metadata": {}
  },
  {
   "cell_type": "code",
   "execution_count": null,
   "source": [],
   "outputs": [],
   "metadata": {}
  }
 ],
 "metadata": {
  "kernelspec": {
   "display_name": "Python 3",
   "language": "python",
   "name": "python3"
  },
  "language_info": {
   "codemirror_mode": {
    "name": "ipython",
    "version": 3
   },
   "file_extension": ".py",
   "mimetype": "text/x-python",
   "name": "python",
   "nbconvert_exporter": "python",
   "pygments_lexer": "ipython3",
   "version": "3.8.5"
  }
 },
 "nbformat": 4,
 "nbformat_minor": 4
}